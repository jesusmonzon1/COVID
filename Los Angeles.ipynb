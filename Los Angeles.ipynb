{
 "cells": [
  {
   "cell_type": "code",
   "execution_count": 1,
   "metadata": {},
   "outputs": [],
   "source": [
    "import pandas as pd\n",
    "import numpy as np\n",
    "\n",
    "df = pd.read_csv('time_series_covid19_confirmed_US.csv')\n",
    "af = pd.read_csv('time_series_covid19_deaths_US.csv')\n",
    "mex = pd.read_csv('time_series_covid19_confirmed_global.csv')"
   ]
  },
  {
   "cell_type": "code",
   "execution_count": 2,
   "metadata": {},
   "outputs": [],
   "source": [
    "# yuma = (df['Admin2'] == 'Yuma') & (df['Province_State'] == 'Arizona')\n",
    "az = (df['Admin2'] == 'San Diego') | (df['Admin2'] == 'Los Angeles')\n",
    "df2 = df.loc[az]"
   ]
  },
  {
   "cell_type": "code",
   "execution_count": 3,
   "metadata": {},
   "outputs": [],
   "source": [
    "af2 = af.loc[az]"
   ]
  },
  {
   "cell_type": "code",
   "execution_count": 4,
   "metadata": {},
   "outputs": [
    {
     "name": "stderr",
     "output_type": "stream",
     "text": [
      "C:\\Users\\jmonz\\Anaconda3\\lib\\site-packages\\pandas\\core\\frame.py:4223: SettingWithCopyWarning: \n",
      "A value is trying to be set on a copy of a slice from a DataFrame\n",
      "\n",
      "See the caveats in the documentation: http://pandas.pydata.org/pandas-docs/stable/user_guide/indexing.html#returning-a-view-versus-a-copy\n",
      "  return super().rename(**kwargs)\n"
     ]
    }
   ],
   "source": [
    "df2.rename(columns={'Admin2':'Dates'}, inplace=True)\n",
    "df2.set_index('Dates', inplace=True)\n",
    "df2 = df2.T"
   ]
  },
  {
   "cell_type": "code",
   "execution_count": 5,
   "metadata": {},
   "outputs": [],
   "source": [
    "af2.rename(columns={'Admin2':'Dates'}, inplace=True)\n",
    "af2.set_index('Dates', inplace=True)\n",
    "af2 = af2.T"
   ]
  },
  {
   "cell_type": "code",
   "execution_count": 6,
   "metadata": {},
   "outputs": [],
   "source": [
    "df2.drop(['UID', 'iso2', 'iso3', 'code3', 'FIPS',\n",
    "          'Province_State', 'Country_Region', 'Lat', 'Long_', 'Combined_Key'], inplace=True)"
   ]
  },
  {
   "cell_type": "code",
   "execution_count": 7,
   "metadata": {},
   "outputs": [],
   "source": [
    "af2.drop(['UID', 'iso2', 'iso3', 'code3', 'FIPS',\n",
    "          'Province_State', 'Country_Region', 'Lat', 'Long_', 'Combined_Key', 'Population'], inplace=True)"
   ]
  },
  {
   "cell_type": "code",
   "execution_count": 8,
   "metadata": {},
   "outputs": [],
   "source": [
    "df2['Date'] = df2.index\n",
    "df2['Date'] = pd.to_datetime(df2['Date'], format= '%m/%d/%y')\n",
    "df2.set_index('Date', inplace=True)"
   ]
  },
  {
   "cell_type": "code",
   "execution_count": 9,
   "metadata": {},
   "outputs": [],
   "source": [
    "af2['Date'] = af2.index\n",
    "af2['Date'] = pd.to_datetime(af2['Date'], format= '%m/%d/%y')\n",
    "af2.set_index('Date', inplace=True)"
   ]
  },
  {
   "cell_type": "code",
   "execution_count": 14,
   "metadata": {},
   "outputs": [
    {
     "data": {
      "text/html": [
       "<div>\n",
       "<style scoped>\n",
       "    .dataframe tbody tr th:only-of-type {\n",
       "        vertical-align: middle;\n",
       "    }\n",
       "\n",
       "    .dataframe tbody tr th {\n",
       "        vertical-align: top;\n",
       "    }\n",
       "\n",
       "    .dataframe thead th {\n",
       "        text-align: right;\n",
       "    }\n",
       "</style>\n",
       "<table border=\"1\" class=\"dataframe\">\n",
       "  <thead>\n",
       "    <tr style=\"text-align: right;\">\n",
       "      <th>Dates</th>\n",
       "      <th>Los Angeles</th>\n",
       "      <th>San Diego</th>\n",
       "    </tr>\n",
       "    <tr>\n",
       "      <th>Date</th>\n",
       "      <th></th>\n",
       "      <th></th>\n",
       "    </tr>\n",
       "  </thead>\n",
       "  <tbody>\n",
       "    <tr>\n",
       "      <td>2020-03-01</td>\n",
       "      <td>1</td>\n",
       "      <td>2</td>\n",
       "    </tr>\n",
       "    <tr>\n",
       "      <td>2020-03-02</td>\n",
       "      <td>1</td>\n",
       "      <td>2</td>\n",
       "    </tr>\n",
       "    <tr>\n",
       "      <td>2020-03-03</td>\n",
       "      <td>1</td>\n",
       "      <td>2</td>\n",
       "    </tr>\n",
       "    <tr>\n",
       "      <td>2020-03-04</td>\n",
       "      <td>7</td>\n",
       "      <td>2</td>\n",
       "    </tr>\n",
       "    <tr>\n",
       "      <td>2020-03-05</td>\n",
       "      <td>11</td>\n",
       "      <td>3</td>\n",
       "    </tr>\n",
       "    <tr>\n",
       "      <td>...</td>\n",
       "      <td>...</td>\n",
       "      <td>...</td>\n",
       "    </tr>\n",
       "    <tr>\n",
       "      <td>2020-05-01</td>\n",
       "      <td>24262</td>\n",
       "      <td>3564</td>\n",
       "    </tr>\n",
       "    <tr>\n",
       "      <td>2020-05-02</td>\n",
       "      <td>24894</td>\n",
       "      <td>3711</td>\n",
       "    </tr>\n",
       "    <tr>\n",
       "      <td>2020-05-03</td>\n",
       "      <td>25699</td>\n",
       "      <td>3927</td>\n",
       "    </tr>\n",
       "    <tr>\n",
       "      <td>2020-05-04</td>\n",
       "      <td>26225</td>\n",
       "      <td>3927</td>\n",
       "    </tr>\n",
       "    <tr>\n",
       "      <td>2020-05-05</td>\n",
       "      <td>27836</td>\n",
       "      <td>4020</td>\n",
       "    </tr>\n",
       "  </tbody>\n",
       "</table>\n",
       "<p>66 rows × 2 columns</p>\n",
       "</div>"
      ],
      "text/plain": [
       "Dates      Los Angeles San Diego\n",
       "Date                            \n",
       "2020-03-01           1         2\n",
       "2020-03-02           1         2\n",
       "2020-03-03           1         2\n",
       "2020-03-04           7         2\n",
       "2020-03-05          11         3\n",
       "...                ...       ...\n",
       "2020-05-01       24262      3564\n",
       "2020-05-02       24894      3711\n",
       "2020-05-03       25699      3927\n",
       "2020-05-04       26225      3927\n",
       "2020-05-05       27836      4020\n",
       "\n",
       "[66 rows x 2 columns]"
      ]
     },
     "execution_count": 14,
     "metadata": {},
     "output_type": "execute_result"
    }
   ],
   "source": [
    "#af2\n",
    "df2"
   ]
  },
  {
   "cell_type": "code",
   "execution_count": 11,
   "metadata": {},
   "outputs": [],
   "source": [
    "df2 = df2[df2.index.month >= 3]\n",
    "af2 = af2[af2.index.month >= 3]"
   ]
  },
  {
   "cell_type": "code",
   "execution_count": 33,
   "metadata": {},
   "outputs": [
    {
     "data": {
      "image/png": "[encoded data removed]",
      "text/plain": [
       "<Figure size 720x720 with 1 Axes>"
      ]
     },
     "metadata": {},
     "output_type": "display_data"
    }
   ],
   "source": [
    "import numpy as np\n",
    "from matplotlib import pyplot as plt\n",
    "%matplotlib inline\n",
    "\n",
    "plt.style.use('fivethirtyeight')\n",
    "\n",
    "# Create figure and plot space\n",
    "fig, ax = plt.subplots(figsize=(10, 10))\n",
    "\n",
    "# Add lines\n",
    "ax.plot(df2.index.values,\n",
    "         df2['Los Angeles'], linewidth=2, label='Los Angeles')\n",
    "\n",
    "ax.plot(af2.index.values,\n",
    "        af2['Los Angeles'], linestyle='--', linewidth=2, label='Los Angeles Deaths')\n",
    "\n",
    "# ax.plot(df2.index.values,\n",
    "#        df2['San Diego'], color='blue', linewidth=2, label='San Diego')\n",
    "\n",
    "# ax.plot(af2.index.values,\n",
    "#         af2['San Diego'], color='blue', linestyle='--', linewidth=2, label='San Diego')\n",
    "\n",
    "\n",
    "# Set title and labels for axes\n",
    "ax.set(xlabel=\"DATE\",\n",
    "       ylabel=\"NUMBER OF INDIVIDUALS\",\n",
    "       title=\"CASES CONFIRMED\")\n",
    "\n",
    "ax.axvline(a, ls='-', color='r', alpha=0.5, linewidth='1')\n",
    "# ax.text(a,0,'Stay at Home Order',rotation=90)\n",
    "\n",
    "ax.legend()\n",
    "\n",
    "plt.tight_layout()\n",
    "\n",
    "a = '2020-03-17'\n",
    "# b = '2020-05-05'\n",
    "# plt.axvspan(a, b, color='y', alpha=0.2, lw=0)\n",
    "\n",
    "plt.savefig('Los Angeles.png')\n",
    "\n",
    "plt.show()"
   ]
  }
 ],
 "metadata": {
  "kernelspec": {
   "display_name": "Python 3",
   "language": "python",
   "name": "python3"
  },
  "language_info": {
   "codemirror_mode": {
    "name": "ipython",
    "version": 3
   },
   "file_extension": ".py",
   "mimetype": "text/x-python",
   "name": "python",
   "nbconvert_exporter": "python",
   "pygments_lexer": "ipython3",
   "version": "3.7.4"
  }
 },
 "nbformat": 4,
 "nbformat_minor": 2
}
